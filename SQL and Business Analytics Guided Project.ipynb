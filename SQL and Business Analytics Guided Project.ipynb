{
 "cells": [
  {
   "cell_type": "markdown",
   "metadata": {},
   "source": [
    "This is a response to the DataQuest Guided Project, Answering Business Questions using SQL.  The problem provided a dataset with 11 tables in the Chinook database, each linked to at least one other table by a common variable.  The question gives four new artists that could be sold by a record store in the United States and the genre of their music, and asks which three to pick:\n",
    "Regal (Hip-Hop), Red Tone (Punk), Meteor and the Girls (Pop), Slim Jim Bites (Blues)"
   ]
  },
  {
   "cell_type": "code",
   "execution_count": 1,
   "metadata": {
    "collapsed": true
   },
   "outputs": [],
   "source": [
    "import sqlite3\n",
    "import pandas as pd\n",
    "import matplotlib.pyplot as plt\n",
    "%matplotlib inline"
   ]
  },
  {
   "cell_type": "code",
   "execution_count": 2,
   "metadata": {
    "collapsed": false
   },
   "outputs": [],
   "source": [
    "#function allowing us to input a query from the chinook db\n",
    "#and print into a dataframe automatically\n",
    "\n",
    "def run_query(q):\n",
    "    conn = sqlite3.connect('chinook.db')\n",
    "    return pd.read_sql_query(q, conn)"
   ]
  },
  {
   "cell_type": "code",
   "execution_count": 3,
   "metadata": {
    "collapsed": false
   },
   "outputs": [],
   "source": [
    "#function that defines permanent views\n",
    "\n",
    "def run_command(c):\n",
    "    conn = sqlite3.connect('chinook.db')\n",
    "    conn.isolation_level = None\n",
    "    conn.execute(c)"
   ]
  },
  {
   "cell_type": "code",
   "execution_count": 4,
   "metadata": {
    "collapsed": false
   },
   "outputs": [
    {
     "data": {
      "text/html": [
       "<div>\n",
       "<style scoped>\n",
       "    .dataframe tbody tr th:only-of-type {\n",
       "        vertical-align: middle;\n",
       "    }\n",
       "\n",
       "    .dataframe tbody tr th {\n",
       "        vertical-align: top;\n",
       "    }\n",
       "\n",
       "    .dataframe thead th {\n",
       "        text-align: right;\n",
       "    }\n",
       "</style>\n",
       "<table border=\"1\" class=\"dataframe\">\n",
       "  <thead>\n",
       "    <tr style=\"text-align: right;\">\n",
       "      <th></th>\n",
       "      <th>name</th>\n",
       "      <th>type</th>\n",
       "    </tr>\n",
       "  </thead>\n",
       "  <tbody>\n",
       "    <tr>\n",
       "      <th>0</th>\n",
       "      <td>album</td>\n",
       "      <td>table</td>\n",
       "    </tr>\n",
       "    <tr>\n",
       "      <th>1</th>\n",
       "      <td>artist</td>\n",
       "      <td>table</td>\n",
       "    </tr>\n",
       "    <tr>\n",
       "      <th>2</th>\n",
       "      <td>customer</td>\n",
       "      <td>table</td>\n",
       "    </tr>\n",
       "    <tr>\n",
       "      <th>3</th>\n",
       "      <td>employee</td>\n",
       "      <td>table</td>\n",
       "    </tr>\n",
       "    <tr>\n",
       "      <th>4</th>\n",
       "      <td>genre</td>\n",
       "      <td>table</td>\n",
       "    </tr>\n",
       "    <tr>\n",
       "      <th>5</th>\n",
       "      <td>invoice</td>\n",
       "      <td>table</td>\n",
       "    </tr>\n",
       "    <tr>\n",
       "      <th>6</th>\n",
       "      <td>invoice_line</td>\n",
       "      <td>table</td>\n",
       "    </tr>\n",
       "    <tr>\n",
       "      <th>7</th>\n",
       "      <td>media_type</td>\n",
       "      <td>table</td>\n",
       "    </tr>\n",
       "    <tr>\n",
       "      <th>8</th>\n",
       "      <td>playlist</td>\n",
       "      <td>table</td>\n",
       "    </tr>\n",
       "    <tr>\n",
       "      <th>9</th>\n",
       "      <td>playlist_track</td>\n",
       "      <td>table</td>\n",
       "    </tr>\n",
       "    <tr>\n",
       "      <th>10</th>\n",
       "      <td>track</td>\n",
       "      <td>table</td>\n",
       "    </tr>\n",
       "    <tr>\n",
       "      <th>11</th>\n",
       "      <td>country_groups</td>\n",
       "      <td>view</td>\n",
       "    </tr>\n",
       "    <tr>\n",
       "      <th>12</th>\n",
       "      <td>customer_data</td>\n",
       "      <td>view</td>\n",
       "    </tr>\n",
       "  </tbody>\n",
       "</table>\n",
       "</div>"
      ],
      "text/plain": [
       "              name   type\n",
       "0            album  table\n",
       "1           artist  table\n",
       "2         customer  table\n",
       "3         employee  table\n",
       "4            genre  table\n",
       "5          invoice  table\n",
       "6     invoice_line  table\n",
       "7       media_type  table\n",
       "8         playlist  table\n",
       "9   playlist_track  table\n",
       "10           track  table\n",
       "11  country_groups   view\n",
       "12   customer_data   view"
      ]
     },
     "execution_count": 4,
     "metadata": {},
     "output_type": "execute_result"
    }
   ],
   "source": [
    "#query to quickly check db table and view state throughout process\n",
    "\n",
    "def show_tables():\n",
    "    d = 'SELECT name, type FROM sqlite_master WHERE type IN (\"table\", \"view\");'\n",
    "    return run_query(d)\n",
    "\n",
    "show_tables()"
   ]
  },
  {
   "cell_type": "code",
   "execution_count": 5,
   "metadata": {
    "collapsed": false
   },
   "outputs": [],
   "source": [
    "q = \"WITH \\\n",
    "    n AS (SELECT \\\n",
    "            g.name genre_name, \\\n",
    "            COUNT(*) number_sold_in_usa \\\n",
    "          FROM genre g \\\n",
    "          INNER JOIN track t ON t.genre_id = g.genre_id \\\n",
    "          INNER JOIN invoice_line il ON il.track_id = t.track_id \\\n",
    "          INNER JOIN invoice i ON i.invoice_id = il.invoice_id \\\n",
    "          WHERE i.billing_country = 'USA' \\\n",
    "          GROUP BY t.genre_id) \\\n",
    "    SELECT \\\n",
    "        genre_name, \\\n",
    "        number_sold_in_usa, \\\n",
    "        (CAST(number_sold_in_usa AS FLOAT)/1051)*100 AS percentage_sold_in_usa \\\n",
    "    FROM n;\"\n",
    "\n",
    "usa_genres = run_query(q)"
   ]
  },
  {
   "cell_type": "code",
   "execution_count": 6,
   "metadata": {
    "collapsed": false
   },
   "outputs": [
    {
     "data": {
      "text/html": [
       "<div>\n",
       "<style scoped>\n",
       "    .dataframe tbody tr th:only-of-type {\n",
       "        vertical-align: middle;\n",
       "    }\n",
       "\n",
       "    .dataframe tbody tr th {\n",
       "        vertical-align: top;\n",
       "    }\n",
       "\n",
       "    .dataframe thead th {\n",
       "        text-align: right;\n",
       "    }\n",
       "</style>\n",
       "<table border=\"1\" class=\"dataframe\">\n",
       "  <thead>\n",
       "    <tr style=\"text-align: right;\">\n",
       "      <th></th>\n",
       "      <th>genre_name</th>\n",
       "      <th>number_sold_in_usa</th>\n",
       "      <th>percentage_sold_in_usa</th>\n",
       "    </tr>\n",
       "  </thead>\n",
       "  <tbody>\n",
       "    <tr>\n",
       "      <th>0</th>\n",
       "      <td>Rock</td>\n",
       "      <td>561</td>\n",
       "      <td>53.377735</td>\n",
       "    </tr>\n",
       "    <tr>\n",
       "      <th>1</th>\n",
       "      <td>Jazz</td>\n",
       "      <td>14</td>\n",
       "      <td>1.332065</td>\n",
       "    </tr>\n",
       "    <tr>\n",
       "      <th>2</th>\n",
       "      <td>Metal</td>\n",
       "      <td>124</td>\n",
       "      <td>11.798287</td>\n",
       "    </tr>\n",
       "    <tr>\n",
       "      <th>3</th>\n",
       "      <td>Alternative &amp; Punk</td>\n",
       "      <td>130</td>\n",
       "      <td>12.369172</td>\n",
       "    </tr>\n",
       "    <tr>\n",
       "      <th>4</th>\n",
       "      <td>Blues</td>\n",
       "      <td>36</td>\n",
       "      <td>3.425309</td>\n",
       "    </tr>\n",
       "    <tr>\n",
       "      <th>5</th>\n",
       "      <td>Latin</td>\n",
       "      <td>22</td>\n",
       "      <td>2.093245</td>\n",
       "    </tr>\n",
       "    <tr>\n",
       "      <th>6</th>\n",
       "      <td>Reggae</td>\n",
       "      <td>6</td>\n",
       "      <td>0.570885</td>\n",
       "    </tr>\n",
       "    <tr>\n",
       "      <th>7</th>\n",
       "      <td>Pop</td>\n",
       "      <td>22</td>\n",
       "      <td>2.093245</td>\n",
       "    </tr>\n",
       "    <tr>\n",
       "      <th>8</th>\n",
       "      <td>Soundtrack</td>\n",
       "      <td>2</td>\n",
       "      <td>0.190295</td>\n",
       "    </tr>\n",
       "    <tr>\n",
       "      <th>9</th>\n",
       "      <td>Easy Listening</td>\n",
       "      <td>13</td>\n",
       "      <td>1.236917</td>\n",
       "    </tr>\n",
       "    <tr>\n",
       "      <th>10</th>\n",
       "      <td>Heavy Metal</td>\n",
       "      <td>3</td>\n",
       "      <td>0.285442</td>\n",
       "    </tr>\n",
       "    <tr>\n",
       "      <th>11</th>\n",
       "      <td>R&amp;B/Soul</td>\n",
       "      <td>53</td>\n",
       "      <td>5.042816</td>\n",
       "    </tr>\n",
       "    <tr>\n",
       "      <th>12</th>\n",
       "      <td>Electronica/Dance</td>\n",
       "      <td>5</td>\n",
       "      <td>0.475737</td>\n",
       "    </tr>\n",
       "    <tr>\n",
       "      <th>13</th>\n",
       "      <td>Hip Hop/Rap</td>\n",
       "      <td>20</td>\n",
       "      <td>1.902950</td>\n",
       "    </tr>\n",
       "    <tr>\n",
       "      <th>14</th>\n",
       "      <td>TV Shows</td>\n",
       "      <td>1</td>\n",
       "      <td>0.095147</td>\n",
       "    </tr>\n",
       "    <tr>\n",
       "      <th>15</th>\n",
       "      <td>Alternative</td>\n",
       "      <td>35</td>\n",
       "      <td>3.330162</td>\n",
       "    </tr>\n",
       "    <tr>\n",
       "      <th>16</th>\n",
       "      <td>Classical</td>\n",
       "      <td>4</td>\n",
       "      <td>0.380590</td>\n",
       "    </tr>\n",
       "  </tbody>\n",
       "</table>\n",
       "</div>"
      ],
      "text/plain": [
       "            genre_name  number_sold_in_usa  percentage_sold_in_usa\n",
       "0                 Rock                 561               53.377735\n",
       "1                 Jazz                  14                1.332065\n",
       "2                Metal                 124               11.798287\n",
       "3   Alternative & Punk                 130               12.369172\n",
       "4                Blues                  36                3.425309\n",
       "5                Latin                  22                2.093245\n",
       "6               Reggae                   6                0.570885\n",
       "7                  Pop                  22                2.093245\n",
       "8           Soundtrack                   2                0.190295\n",
       "9       Easy Listening                  13                1.236917\n",
       "10         Heavy Metal                   3                0.285442\n",
       "11            R&B/Soul                  53                5.042816\n",
       "12   Electronica/Dance                   5                0.475737\n",
       "13         Hip Hop/Rap                  20                1.902950\n",
       "14            TV Shows                   1                0.095147\n",
       "15         Alternative                  35                3.330162\n",
       "16           Classical                   4                0.380590"
      ]
     },
     "execution_count": 6,
     "metadata": {},
     "output_type": "execute_result"
    }
   ],
   "source": [
    "usa_genres"
   ]
  },
  {
   "cell_type": "code",
   "execution_count": 7,
   "metadata": {
    "collapsed": false
   },
   "outputs": [
    {
     "data": {
      "image/png": "[encoded data removed]",
      "text/plain": [
       "<matplotlib.figure.Figure at 0x7fe09ff80978>"
      ]
     },
     "metadata": {},
     "output_type": "display_data"
    }
   ],
   "source": [
    "#bar graph of absolute numbers\n",
    "\n",
    "from numpy import arange\n",
    "\n",
    "fig, ax = plt.subplots(figsize=(10,5))\n",
    "\n",
    "bar_positions = arange(17) + 0.45\n",
    "bar_heights = usa_genres['number_sold_in_usa'].values\n",
    "ax.bar(bar_positions, bar_heights, 0.5, color=(1,165/255,0))\n",
    "\n",
    "xtick_pos = arange(17)+0.75\n",
    "ax.set_xticks(xtick_pos)\n",
    "ax.set_xticklabels(usa_genres['genre_name'], rotation=90)\n",
    "plt.xlabel(\"Genre\")\n",
    "\n",
    "ax.tick_params(bottom='off', top='off', left='off', right='off')\n",
    "\n",
    "plt.ylabel(\"Tracks Sold\")\n",
    "\n",
    "plt.title(\"Number of Tracks Sold in USA\", fontsize=15)\n",
    "\n",
    "plt.show()"
   ]
  },
  {
   "cell_type": "code",
   "execution_count": 8,
   "metadata": {
    "collapsed": false
   },
   "outputs": [
    {
     "data": {
      "image/png": "[encoded data removed]",
      "text/plain": [
       "<matplotlib.figure.Figure at 0x7fe09611d160>"
      ]
     },
     "metadata": {},
     "output_type": "display_data"
    }
   ],
   "source": [
    "#bar graph of percentages\n",
    "\n",
    "fig, ax = plt.subplots(figsize=(10, 5))\n",
    "\n",
    "bar_positions = arange(17) + 0.45\n",
    "bar_heights = usa_genres['percentage_sold_in_usa'].values\n",
    "ax.bar(bar_positions, bar_heights, 0.5, color=(191/255, 62/255, 255/255))\n",
    "\n",
    "xtick_pos = arange(17)+0.75\n",
    "ax.set_xticks(xtick_pos)\n",
    "ax.set_xticklabels(usa_genres['genre_name'], rotation=90)\n",
    "plt.xlabel(\"Genre\")\n",
    "\n",
    "ax.tick_params(bottom='off', top='off', left='off', right='off')\n",
    "\n",
    "plt.ylabel(\"Percentage of Tracks Sold\")\n",
    "\n",
    "plt.title(\"Percentage of Tracks Sold in USA by Genre\", fontsize=15)\n",
    "\n",
    "plt.show()"
   ]
  },
  {
   "cell_type": "markdown",
   "metadata": {},
   "source": [
    "Based on these results, the punk artist (Red Tone), the Blues artist (Slim Jim Bites), and the Pop artist (Meteor and the Girls) should be added to the store for the highest chance of sales."
   ]
  },
  {
   "cell_type": "markdown",
   "metadata": {},
   "source": [
    "The next question is whether any particular sales agents are performing particularly better or worse."
   ]
  },
  {
   "cell_type": "code",
   "execution_count": 9,
   "metadata": {
    "collapsed": false
   },
   "outputs": [
    {
     "data": {
      "text/html": [
       "<div>\n",
       "<style scoped>\n",
       "    .dataframe tbody tr th:only-of-type {\n",
       "        vertical-align: middle;\n",
       "    }\n",
       "\n",
       "    .dataframe tbody tr th {\n",
       "        vertical-align: top;\n",
       "    }\n",
       "\n",
       "    .dataframe thead th {\n",
       "        text-align: right;\n",
       "    }\n",
       "</style>\n",
       "<table border=\"1\" class=\"dataframe\">\n",
       "  <thead>\n",
       "    <tr style=\"text-align: right;\">\n",
       "      <th></th>\n",
       "      <th>employee_name</th>\n",
       "      <th>hire_date</th>\n",
       "      <th>total_sales</th>\n",
       "    </tr>\n",
       "  </thead>\n",
       "  <tbody>\n",
       "    <tr>\n",
       "      <th>0</th>\n",
       "      <td>Jane Peacock</td>\n",
       "      <td>2017-04-01 00:00:00</td>\n",
       "      <td>1731.51</td>\n",
       "    </tr>\n",
       "    <tr>\n",
       "      <th>1</th>\n",
       "      <td>Margaret Park</td>\n",
       "      <td>2017-05-03 00:00:00</td>\n",
       "      <td>1584.00</td>\n",
       "    </tr>\n",
       "    <tr>\n",
       "      <th>2</th>\n",
       "      <td>Steve Johnson</td>\n",
       "      <td>2017-10-17 00:00:00</td>\n",
       "      <td>1393.92</td>\n",
       "    </tr>\n",
       "  </tbody>\n",
       "</table>\n",
       "</div>"
      ],
      "text/plain": [
       "   employee_name            hire_date  total_sales\n",
       "0   Jane Peacock  2017-04-01 00:00:00      1731.51\n",
       "1  Margaret Park  2017-05-03 00:00:00      1584.00\n",
       "2  Steve Johnson  2017-10-17 00:00:00      1393.92"
      ]
     },
     "execution_count": 9,
     "metadata": {},
     "output_type": "execute_result"
    }
   ],
   "source": [
    "#query that calculates total dollar amount of sales earned by each sales support agent\n",
    "q = \"SELECT \\\n",
    "        e.first_name || ' ' || e.last_name \\\n",
    "            AS employee_name, \\\n",
    "        e.hire_date, \\\n",
    "        SUM(i.total) \\\n",
    "            AS total_sales\\\n",
    "    FROM invoice i \\\n",
    "        INNER JOIN customer c ON c.customer_id = i.customer_id \\\n",
    "        INNER JOIN employee e on e.employee_id = c.support_rep_id \\\n",
    "    GROUP BY c.support_rep_id \\\n",
    "    ORDER BY total_sales DESC\"\n",
    "\n",
    "sales_support_agents = run_query(q)\n",
    "sales_support_agents"
   ]
  },
  {
   "cell_type": "code",
   "execution_count": 10,
   "metadata": {
    "collapsed": false
   },
   "outputs": [
    {
     "data": {
      "image/png": "[encoded data removed]",
      "text/plain": [
       "<matplotlib.figure.Figure at 0x7fe096130c50>"
      ]
     },
     "metadata": {},
     "output_type": "display_data"
    }
   ],
   "source": [
    "#to be able to visualize the relationship between hire date and total\n",
    "#sales, I need to create lists of iterable float values for a scatter\n",
    "#plot to use as x and y values.\n",
    "\n",
    "dates = sales_support_agents['hire_date'].values\n",
    "month_of_hire = []\n",
    "for item in dates:\n",
    "    month_of_hire.append(float(item[5:7]))\n",
    "\n",
    "sales = sales_support_agents['total_sales'].values\n",
    "employee_names = sales_support_agents['employee_name'].values\n",
    "\n",
    "fig, ax = plt.subplots()\n",
    "ax.scatter(month_of_hire, sales, s=30)\n",
    "plt.title('Sales by Month of Hire', fontsize=15)\n",
    "ax.set_xlabel('Month of Hire')\n",
    "ax.set_xlim(1,12)\n",
    "ax.set_ylim(1300,1800)\n",
    "ax.set_ylabel('Total Sales')\n",
    "ax.tick_params(bottom='off', top='off', left='off', right='off')\n",
    "\n",
    "for i, txt in enumerate(employee_names):\n",
    "    ax.annotate(txt, (month_of_hire[i]-2.5, sales[i]-5))\n",
    "\n",
    "plt.show()"
   ]
  },
  {
   "cell_type": "markdown",
   "metadata": {},
   "source": [
    "The sales agents do have different amounts of total sales, but it corresponds with when they were hired.  Jane Peacock, who was hired in early April, has the most sales; Margaret Park, who has been working since early May, is about 150 behind Peacock; and Steve Johnson, hired in October, has the lowest total sales, about 190 behind Park.  This makes sense because if someone was working longer, they would have more time to make more sales.  The better question to evaluate the rate at which an agent earns sales would be to divide their total sales by the total amount of time that they have been working, but since I do not have a date for when this database was created I can't do that here."
   ]
  },
  {
   "cell_type": "markdown",
   "metadata": {},
   "source": [
    "The next prompt is to calculate total number of customers, total value of sales, and average value of sales per customer with the countries with only one customer grouped together in \"Other.\""
   ]
  },
  {
   "cell_type": "code",
   "execution_count": 11,
   "metadata": {
    "collapsed": false
   },
   "outputs": [
    {
     "ename": "OperationalError",
     "evalue": "table country_groups already exists",
     "output_type": "error",
     "traceback": [
      "\u001b[1;31m\u001b[0m",
      "\u001b[1;31mOperationalError\u001b[0mTraceback (most recent call last)",
      "\u001b[1;32m<ipython-input-11-5aa95a3b72ce>\u001b[0m in \u001b[0;36m<module>\u001b[1;34m()\u001b[0m\n\u001b[0;32m      1\u001b[0m \u001b[0mc\u001b[0m \u001b[1;33m=\u001b[0m \u001b[1;34m\"CREATE VIEW country_groups AS         WITH customer_counts AS (         SELECT             country,             COUNT(customer_id) counted         FROM customer c         GROUP BY country         ),         total_sales AS (         SELECT             CASE                 WHEN cc.counted = 1                     THEN 'Other'                 ELSE c.country                 END AS country_redefined,             cc.counted,             SUM(i.total) AS total_sales         FROM customer c             INNER JOIN invoice i on i.customer_id = c.customer_id             INNER JOIN customer_counts cc ON cc.country = c.country         GROUP BY c.country         )     SELECT * FROM total_sales;\"\u001b[0m\u001b[1;33m\u001b[0m\u001b[0m\n\u001b[0;32m      2\u001b[0m \u001b[1;33m\u001b[0m\u001b[0m\n\u001b[1;32m----> 3\u001b[1;33m \u001b[0mrun_command\u001b[0m\u001b[1;33m(\u001b[0m\u001b[0mc\u001b[0m\u001b[1;33m)\u001b[0m\u001b[1;33m\u001b[0m\u001b[0m\n\u001b[0m",
      "\u001b[1;32m<ipython-input-3-703df620046f>\u001b[0m in \u001b[0;36mrun_command\u001b[1;34m(c)\u001b[0m\n\u001b[0;32m      4\u001b[0m     \u001b[0mconn\u001b[0m \u001b[1;33m=\u001b[0m \u001b[0msqlite3\u001b[0m\u001b[1;33m.\u001b[0m\u001b[0mconnect\u001b[0m\u001b[1;33m(\u001b[0m\u001b[1;34m'chinook.db'\u001b[0m\u001b[1;33m)\u001b[0m\u001b[1;33m\u001b[0m\u001b[0m\n\u001b[0;32m      5\u001b[0m     \u001b[0mconn\u001b[0m\u001b[1;33m.\u001b[0m\u001b[0misolation_level\u001b[0m \u001b[1;33m=\u001b[0m \u001b[1;32mNone\u001b[0m\u001b[1;33m\u001b[0m\u001b[0m\n\u001b[1;32m----> 6\u001b[1;33m     \u001b[0mconn\u001b[0m\u001b[1;33m.\u001b[0m\u001b[0mexecute\u001b[0m\u001b[1;33m(\u001b[0m\u001b[0mc\u001b[0m\u001b[1;33m)\u001b[0m\u001b[1;33m\u001b[0m\u001b[0m\n\u001b[0m",
      "\u001b[1;31mOperationalError\u001b[0m: table country_groups already exists"
     ]
    }
   ],
   "source": [
    "c = \"CREATE VIEW country_groups AS \\\n",
    "        WITH customer_counts AS ( \\\n",
    "        SELECT \\\n",
    "            country, \\\n",
    "            COUNT(customer_id) counted \\\n",
    "        FROM customer c \\\n",
    "        GROUP BY country \\\n",
    "        ), \\\n",
    "        total_sales AS ( \\\n",
    "        SELECT \\\n",
    "            CASE \\\n",
    "                WHEN cc.counted = 1 \\\n",
    "                    THEN 'Other' \\\n",
    "                ELSE c.country \\\n",
    "                END AS country_redefined, \\\n",
    "            cc.counted, \\\n",
    "            SUM(i.total) AS total_sales \\\n",
    "        FROM customer c \\\n",
    "            INNER JOIN invoice i on i.customer_id = c.customer_id \\\n",
    "            INNER JOIN customer_counts cc ON cc.country = c.country \\\n",
    "        GROUP BY c.country \\\n",
    "        ) \\\n",
    "    SELECT * FROM total_sales;\"\n",
    "\n",
    "run_command(c)"
   ]
  },
  {
   "cell_type": "code",
   "execution_count": 12,
   "metadata": {
    "collapsed": false
   },
   "outputs": [
    {
     "ename": "OperationalError",
     "evalue": "table customer_data already exists",
     "output_type": "error",
     "traceback": [
      "\u001b[1;31m\u001b[0m",
      "\u001b[1;31mOperationalError\u001b[0mTraceback (most recent call last)",
      "\u001b[1;32m<ipython-input-12-059bc5349df3>\u001b[0m in \u001b[0;36m<module>\u001b[1;34m()\u001b[0m\n\u001b[0;32m      1\u001b[0m \u001b[0mc\u001b[0m \u001b[1;33m=\u001b[0m \u001b[1;34m\"CREATE VIEW customer_data AS     WITH n AS         (SELECT             CASE                 WHEN country_redefined = 'Other'                     THEN 1                 ELSE 0                 END AS forced_order,             country_redefined,             SUM(counted) AS total_customers,             SUM(total_sales) AS total_sales,             SUM(total_sales) / SUM(counted) AS average_sales_per_customer         FROM country_groups         GROUP BY country_redefined)     SELECT         country_redefined country,         total_customers,         total_sales,         average_sales_per_customer     FROM n     ORDER BY forced_order ASC\"\u001b[0m\u001b[1;33m\u001b[0m\u001b[0m\n\u001b[0;32m      2\u001b[0m \u001b[1;33m\u001b[0m\u001b[0m\n\u001b[1;32m----> 3\u001b[1;33m \u001b[0mrun_command\u001b[0m\u001b[1;33m(\u001b[0m\u001b[0mc\u001b[0m\u001b[1;33m)\u001b[0m\u001b[1;33m\u001b[0m\u001b[0m\n\u001b[0m\u001b[0;32m      4\u001b[0m \u001b[0mshow_tables\u001b[0m\u001b[1;33m(\u001b[0m\u001b[1;33m)\u001b[0m\u001b[1;33m\u001b[0m\u001b[0m\n",
      "\u001b[1;32m<ipython-input-3-703df620046f>\u001b[0m in \u001b[0;36mrun_command\u001b[1;34m(c)\u001b[0m\n\u001b[0;32m      4\u001b[0m     \u001b[0mconn\u001b[0m \u001b[1;33m=\u001b[0m \u001b[0msqlite3\u001b[0m\u001b[1;33m.\u001b[0m\u001b[0mconnect\u001b[0m\u001b[1;33m(\u001b[0m\u001b[1;34m'chinook.db'\u001b[0m\u001b[1;33m)\u001b[0m\u001b[1;33m\u001b[0m\u001b[0m\n\u001b[0;32m      5\u001b[0m     \u001b[0mconn\u001b[0m\u001b[1;33m.\u001b[0m\u001b[0misolation_level\u001b[0m \u001b[1;33m=\u001b[0m \u001b[1;32mNone\u001b[0m\u001b[1;33m\u001b[0m\u001b[0m\n\u001b[1;32m----> 6\u001b[1;33m     \u001b[0mconn\u001b[0m\u001b[1;33m.\u001b[0m\u001b[0mexecute\u001b[0m\u001b[1;33m(\u001b[0m\u001b[0mc\u001b[0m\u001b[1;33m)\u001b[0m\u001b[1;33m\u001b[0m\u001b[0m\n\u001b[0m",
      "\u001b[1;31mOperationalError\u001b[0m: table customer_data already exists"
     ]
    }
   ],
   "source": [
    "c = \"CREATE VIEW customer_data AS \\\n",
    "    WITH n AS \\\n",
    "        (SELECT \\\n",
    "            CASE \\\n",
    "                WHEN country_redefined = 'Other' \\\n",
    "                    THEN 1 \\\n",
    "                ELSE 0 \\\n",
    "                END AS forced_order, \\\n",
    "            country_redefined, \\\n",
    "            SUM(counted) AS total_customers, \\\n",
    "            SUM(total_sales) AS total_sales, \\\n",
    "            SUM(total_sales) / SUM(counted) AS average_sales_per_customer \\\n",
    "        FROM country_groups \\\n",
    "        GROUP BY country_redefined) \\\n",
    "    SELECT \\\n",
    "        country_redefined country, \\\n",
    "        total_customers, \\\n",
    "        total_sales, \\\n",
    "        average_sales_per_customer \\\n",
    "    FROM n \\\n",
    "    ORDER BY forced_order ASC\"\n",
    "\n",
    "run_command(c)\n",
    "show_tables()"
   ]
  },
  {
   "cell_type": "code",
   "execution_count": 13,
   "metadata": {
    "collapsed": false
   },
   "outputs": [
    {
     "data": {
      "text/html": [
       "<div>\n",
       "<style scoped>\n",
       "    .dataframe tbody tr th:only-of-type {\n",
       "        vertical-align: middle;\n",
       "    }\n",
       "\n",
       "    .dataframe tbody tr th {\n",
       "        vertical-align: top;\n",
       "    }\n",
       "\n",
       "    .dataframe thead th {\n",
       "        text-align: right;\n",
       "    }\n",
       "</style>\n",
       "<table border=\"1\" class=\"dataframe\">\n",
       "  <thead>\n",
       "    <tr style=\"text-align: right;\">\n",
       "      <th></th>\n",
       "      <th>country</th>\n",
       "      <th>total_customers</th>\n",
       "      <th>total_sales</th>\n",
       "      <th>average_sales_per_customer</th>\n",
       "    </tr>\n",
       "  </thead>\n",
       "  <tbody>\n",
       "    <tr>\n",
       "      <th>0</th>\n",
       "      <td>Brazil</td>\n",
       "      <td>5</td>\n",
       "      <td>427.68</td>\n",
       "      <td>85.536000</td>\n",
       "    </tr>\n",
       "    <tr>\n",
       "      <th>1</th>\n",
       "      <td>Canada</td>\n",
       "      <td>8</td>\n",
       "      <td>535.59</td>\n",
       "      <td>66.948750</td>\n",
       "    </tr>\n",
       "    <tr>\n",
       "      <th>2</th>\n",
       "      <td>Czech Republic</td>\n",
       "      <td>2</td>\n",
       "      <td>273.24</td>\n",
       "      <td>136.620000</td>\n",
       "    </tr>\n",
       "    <tr>\n",
       "      <th>3</th>\n",
       "      <td>France</td>\n",
       "      <td>5</td>\n",
       "      <td>389.07</td>\n",
       "      <td>77.814000</td>\n",
       "    </tr>\n",
       "    <tr>\n",
       "      <th>4</th>\n",
       "      <td>Germany</td>\n",
       "      <td>4</td>\n",
       "      <td>334.62</td>\n",
       "      <td>83.655000</td>\n",
       "    </tr>\n",
       "    <tr>\n",
       "      <th>5</th>\n",
       "      <td>India</td>\n",
       "      <td>2</td>\n",
       "      <td>183.15</td>\n",
       "      <td>91.575000</td>\n",
       "    </tr>\n",
       "    <tr>\n",
       "      <th>6</th>\n",
       "      <td>Portugal</td>\n",
       "      <td>2</td>\n",
       "      <td>185.13</td>\n",
       "      <td>92.565000</td>\n",
       "    </tr>\n",
       "    <tr>\n",
       "      <th>7</th>\n",
       "      <td>USA</td>\n",
       "      <td>13</td>\n",
       "      <td>1040.49</td>\n",
       "      <td>80.037692</td>\n",
       "    </tr>\n",
       "    <tr>\n",
       "      <th>8</th>\n",
       "      <td>United Kingdom</td>\n",
       "      <td>3</td>\n",
       "      <td>245.52</td>\n",
       "      <td>81.840000</td>\n",
       "    </tr>\n",
       "    <tr>\n",
       "      <th>9</th>\n",
       "      <td>Other</td>\n",
       "      <td>15</td>\n",
       "      <td>1094.94</td>\n",
       "      <td>72.996000</td>\n",
       "    </tr>\n",
       "  </tbody>\n",
       "</table>\n",
       "</div>"
      ],
      "text/plain": [
       "          country  total_customers  total_sales  average_sales_per_customer\n",
       "0          Brazil                5       427.68                   85.536000\n",
       "1          Canada                8       535.59                   66.948750\n",
       "2  Czech Republic                2       273.24                  136.620000\n",
       "3          France                5       389.07                   77.814000\n",
       "4         Germany                4       334.62                   83.655000\n",
       "5           India                2       183.15                   91.575000\n",
       "6        Portugal                2       185.13                   92.565000\n",
       "7             USA               13      1040.49                   80.037692\n",
       "8  United Kingdom                3       245.52                   81.840000\n",
       "9           Other               15      1094.94                   72.996000"
      ]
     },
     "execution_count": 13,
     "metadata": {},
     "output_type": "execute_result"
    }
   ],
   "source": [
    "q = \"SELECT * FROM customer_data\"\n",
    "run_query(q)"
   ]
  },
  {
   "cell_type": "code",
   "execution_count": 14,
   "metadata": {
    "collapsed": false
   },
   "outputs": [
    {
     "data": {
      "text/html": [
       "<div>\n",
       "<style scoped>\n",
       "    .dataframe tbody tr th:only-of-type {\n",
       "        vertical-align: middle;\n",
       "    }\n",
       "\n",
       "    .dataframe tbody tr th {\n",
       "        vertical-align: top;\n",
       "    }\n",
       "\n",
       "    .dataframe thead th {\n",
       "        text-align: right;\n",
       "    }\n",
       "</style>\n",
       "<table border=\"1\" class=\"dataframe\">\n",
       "  <thead>\n",
       "    <tr style=\"text-align: right;\">\n",
       "      <th></th>\n",
       "      <th>country</th>\n",
       "      <th>total_sales</th>\n",
       "    </tr>\n",
       "  </thead>\n",
       "  <tbody>\n",
       "    <tr>\n",
       "      <th>0</th>\n",
       "      <td>India</td>\n",
       "      <td>183.15</td>\n",
       "    </tr>\n",
       "    <tr>\n",
       "      <th>1</th>\n",
       "      <td>Portugal</td>\n",
       "      <td>185.13</td>\n",
       "    </tr>\n",
       "    <tr>\n",
       "      <th>2</th>\n",
       "      <td>United Kingdom</td>\n",
       "      <td>245.52</td>\n",
       "    </tr>\n",
       "    <tr>\n",
       "      <th>3</th>\n",
       "      <td>Czech Republic</td>\n",
       "      <td>273.24</td>\n",
       "    </tr>\n",
       "    <tr>\n",
       "      <th>4</th>\n",
       "      <td>Germany</td>\n",
       "      <td>334.62</td>\n",
       "    </tr>\n",
       "    <tr>\n",
       "      <th>5</th>\n",
       "      <td>France</td>\n",
       "      <td>389.07</td>\n",
       "    </tr>\n",
       "    <tr>\n",
       "      <th>6</th>\n",
       "      <td>Brazil</td>\n",
       "      <td>427.68</td>\n",
       "    </tr>\n",
       "    <tr>\n",
       "      <th>7</th>\n",
       "      <td>Canada</td>\n",
       "      <td>535.59</td>\n",
       "    </tr>\n",
       "    <tr>\n",
       "      <th>8</th>\n",
       "      <td>USA</td>\n",
       "      <td>1040.49</td>\n",
       "    </tr>\n",
       "    <tr>\n",
       "      <th>9</th>\n",
       "      <td>Other</td>\n",
       "      <td>1094.94</td>\n",
       "    </tr>\n",
       "  </tbody>\n",
       "</table>\n",
       "</div>"
      ],
      "text/plain": [
       "          country  total_sales\n",
       "0           India       183.15\n",
       "1        Portugal       185.13\n",
       "2  United Kingdom       245.52\n",
       "3  Czech Republic       273.24\n",
       "4         Germany       334.62\n",
       "5          France       389.07\n",
       "6          Brazil       427.68\n",
       "7          Canada       535.59\n",
       "8             USA      1040.49\n",
       "9           Other      1094.94"
      ]
     },
     "execution_count": 14,
     "metadata": {},
     "output_type": "execute_result"
    }
   ],
   "source": [
    "q = \"SELECT country, total_sales \\\n",
    "FROM customer_data \\\n",
    "ORDER BY 2 ASC\"\n",
    "\n",
    "sales_data = run_query(q)\n",
    "sales_data"
   ]
  },
  {
   "cell_type": "code",
   "execution_count": 26,
   "metadata": {
    "collapsed": false
   },
   "outputs": [
    {
     "data": {
      "image/png": "[encoded data removed]",
      "text/plain": [
       "<matplotlib.figure.Figure at 0x7fe096091240>"
      ]
     },
     "metadata": {},
     "output_type": "display_data"
    }
   ],
   "source": [
    "bar_positions = arange(10) + .75\n",
    "bar_heights = sales_data['total_sales'].values\n",
    "\n",
    "fig, ax = plt.subplots()\n",
    "ax.bar(bar_positions, bar_heights, 0.5)\n",
    "\n",
    "xticks = range(1,11)\n",
    "ax.set_xticks(xticks)\n",
    "ax.set_xticklabels(sales_data['country'], rotation=90)\n",
    "ax.set_xlabel('Country')\n",
    "\n",
    "ax.set_ylabel('Total Sales')\n",
    "\n",
    "ax.set_title('Total Sales by Country', fontsize=15)\n",
    "\n",
    "plt.show()"
   ]
  },
  {
   "cell_type": "markdown",
   "metadata": {
    "collapsed": true
   },
   "source": [
    "The United States has the most sales by a long shot, so it should be prioritized in marketing efforts.\n",
    "\n",
    "Even though all of the \"Other\" countries only have one customer each, they have more sales combined than the most profitable country, the USA.  Therefore they represent a significant portion of the company's total sales and should not be discarded in marketing."
   ]
  },
  {
   "cell_type": "code",
   "execution_count": 29,
   "metadata": {
    "collapsed": false
   },
   "outputs": [
    {
     "data": {
      "text/html": [
       "<div>\n",
       "<style scoped>\n",
       "    .dataframe tbody tr th:only-of-type {\n",
       "        vertical-align: middle;\n",
       "    }\n",
       "\n",
       "    .dataframe tbody tr th {\n",
       "        vertical-align: top;\n",
       "    }\n",
       "\n",
       "    .dataframe thead th {\n",
       "        text-align: right;\n",
       "    }\n",
       "</style>\n",
       "<table border=\"1\" class=\"dataframe\">\n",
       "  <thead>\n",
       "    <tr style=\"text-align: right;\">\n",
       "      <th></th>\n",
       "      <th>country</th>\n",
       "      <th>average_sales_per_customer</th>\n",
       "    </tr>\n",
       "  </thead>\n",
       "  <tbody>\n",
       "    <tr>\n",
       "      <th>0</th>\n",
       "      <td>Canada</td>\n",
       "      <td>66.948750</td>\n",
       "    </tr>\n",
       "    <tr>\n",
       "      <th>1</th>\n",
       "      <td>France</td>\n",
       "      <td>77.814000</td>\n",
       "    </tr>\n",
       "    <tr>\n",
       "      <th>2</th>\n",
       "      <td>USA</td>\n",
       "      <td>80.037692</td>\n",
       "    </tr>\n",
       "    <tr>\n",
       "      <th>3</th>\n",
       "      <td>United Kingdom</td>\n",
       "      <td>81.840000</td>\n",
       "    </tr>\n",
       "    <tr>\n",
       "      <th>4</th>\n",
       "      <td>Germany</td>\n",
       "      <td>83.655000</td>\n",
       "    </tr>\n",
       "    <tr>\n",
       "      <th>5</th>\n",
       "      <td>Brazil</td>\n",
       "      <td>85.536000</td>\n",
       "    </tr>\n",
       "    <tr>\n",
       "      <th>6</th>\n",
       "      <td>India</td>\n",
       "      <td>91.575000</td>\n",
       "    </tr>\n",
       "    <tr>\n",
       "      <th>7</th>\n",
       "      <td>Portugal</td>\n",
       "      <td>92.565000</td>\n",
       "    </tr>\n",
       "    <tr>\n",
       "      <th>8</th>\n",
       "      <td>Czech Republic</td>\n",
       "      <td>136.620000</td>\n",
       "    </tr>\n",
       "  </tbody>\n",
       "</table>\n",
       "</div>"
      ],
      "text/plain": [
       "          country  average_sales_per_customer\n",
       "0          Canada                   66.948750\n",
       "1          France                   77.814000\n",
       "2             USA                   80.037692\n",
       "3  United Kingdom                   81.840000\n",
       "4         Germany                   83.655000\n",
       "5          Brazil                   85.536000\n",
       "6           India                   91.575000\n",
       "7        Portugal                   92.565000\n",
       "8  Czech Republic                  136.620000"
      ]
     },
     "execution_count": 29,
     "metadata": {},
     "output_type": "execute_result"
    }
   ],
   "source": [
    "q = \"SELECT country, average_sales_per_customer \\\n",
    "FROM customer_data \\\n",
    "WHERE country IS NOT 'Other' \\\n",
    "ORDER BY 2 ASC\"\n",
    "\n",
    "sales_data = run_query(q)\n",
    "sales_data"
   ]
  },
  {
   "cell_type": "code",
   "execution_count": 31,
   "metadata": {
    "collapsed": false
   },
   "outputs": [
    {
     "data": {
      "image/png": "[encoded data removed]",
      "text/plain": [
       "<matplotlib.figure.Figure at 0x7fe095ce3cf8>"
      ]
     },
     "metadata": {},
     "output_type": "display_data"
    }
   ],
   "source": [
    "bar_positions = arange(9) + .75\n",
    "bar_heights = sales_data['average_sales_per_customer'].values\n",
    "\n",
    "fig, ax = plt.subplots()\n",
    "ax.bar(bar_positions, bar_heights, 0.5)\n",
    "\n",
    "xticks = range(1,10)\n",
    "ax.set_xticks(xticks)\n",
    "ax.set_xticklabels(sales_data['country'], rotation=90)\n",
    "ax.set_xlabel('Country')\n",
    "\n",
    "ax.set_ylabel('Average Customer Purchase')\n",
    "\n",
    "ax.set_title('Average Sales per Customer', fontsize=15)\n",
    "\n",
    "plt.show()"
   ]
  },
  {
   "cell_type": "markdown",
   "metadata": {},
   "source": [
    "In terms of average sales per customer, customers in the Czech Republic clearly spend far more than others and should be prioritized by marketing.  India and Portugal may be areas for growth as well.\n",
    "\n",
    "The \"Other\" category was omitted to reduce clutter because it was the second-lowest value of the countries being studied."
   ]
  }
 ],
 "metadata": {
  "kernelspec": {
   "display_name": "Python 3",
   "language": "python",
   "name": "python3"
  },
  "language_info": {
   "codemirror_mode": {
    "name": "ipython",
    "version": 3
   },
   "file_extension": ".py",
   "mimetype": "text/x-python",
   "name": "python",
   "nbconvert_exporter": "python",
   "pygments_lexer": "ipython3",
   "version": "3.4.3"
  }
 },
 "nbformat": 4,
 "nbformat_minor": 2
}
